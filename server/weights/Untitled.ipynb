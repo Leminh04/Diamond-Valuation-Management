{
 "cells": [
  {
   "cell_type": "code",
   "execution_count": 3,
   "id": "92c824c1-fbcf-4875-b46c-409e8e21204b",
   "metadata": {},
   "outputs": [
    {
     "name": "stdout",
     "output_type": "stream",
     "text": [
      "shape: princess\n",
      "cut: EX\n",
      "color: G\n",
      "clarity: SI1\n",
      "polish: EX\n",
      "symmetry: VG\n",
      "fluorescence: N\n"
     ]
    }
   ],
   "source": [
    "import torch\n",
    "import torch.nn as nn\n",
    "from torchvision import transforms, models\n",
    "from PIL import Image\n",
    "import joblib\n",
    "\n",
    "# Load the models\n",
    "models_paths = {\n",
    "    'shape': 'diamond_cnn_shape.pth',\n",
    "    'cut': 'diamond_cnn_cut.pth',\n",
    "    'color': 'diamond_cnn_color.pth',\n",
    "    'clarity': 'diamond_cnn_clarity.pth',\n",
    "    'polish': 'diamond_cnn_polish.pth',\n",
    "    'symmetry': 'diamond_cnn_symmetry.pth',\n",
    "    'fluorescence': 'diamond_cnn_fluorescence.pth'\n",
    "}\n",
    "\n",
    "loaded_models = {}\n",
    "for feature, path in models_paths.items():\n",
    "    model = models.resnet50(pretrained=False)\n",
    "    num_features = model.fc.in_features\n",
    "    model.fc = nn.Linear(num_features, len(joblib.load(f'label_encoder_{feature}.pkl').classes_))\n",
    "    model.load_state_dict(torch.load(path, map_location=torch.device('cpu')))\n",
    "    model.eval()\n",
    "    loaded_models[feature] = model\n",
    "\n",
    "# Load the label encoders\n",
    "label_encoders = {\n",
    "    'shape': joblib.load('label_encoder_shape.pkl'),\n",
    "    'cut': joblib.load('label_encoder_cut.pkl'),\n",
    "    'color': joblib.load('label_encoder_color.pkl'),\n",
    "    'clarity': joblib.load('label_encoder_clarity.pkl'),\n",
    "    'polish': joblib.load('label_encoder_polish.pkl'),\n",
    "    'symmetry': joblib.load('label_encoder_symmetry.pkl'),\n",
    "    'fluorescence': joblib.load('label_encoder_fluorescence.pkl')\n",
    "}\n",
    "\n",
    "# Preprocess the image\n",
    "def preprocess_image(image_path):\n",
    "    data_transforms = transforms.Compose([\n",
    "        transforms.Resize((224, 224)),\n",
    "        transforms.ToTensor(),\n",
    "        transforms.Normalize([0.485, 0.456, 0.406], [0.229, 0.224, 0.225])\n",
    "    ])\n",
    "    image = Image.open(image_path).convert('RGB')\n",
    "    image = data_transforms(image)\n",
    "    image = image.unsqueeze(0)  # Add batch dimension\n",
    "    return image\n",
    "\n",
    "# Predict function\n",
    "def predict(image_path):\n",
    "    image = preprocess_image(image_path)\n",
    "    predictions = {}\n",
    "    for feature, model in loaded_models.items():\n",
    "        outputs = model(image)\n",
    "        _, preds = torch.max(outputs, 1)\n",
    "        label = label_encoders[feature].inverse_transform(preds.cpu().numpy())[0]\n",
    "        predictions[feature] = label\n",
    "    return predictions\n",
    "\n",
    "# Example usage\n",
    "image_path = '111000-7314.jpg'\n",
    "predictions = predict(image_path)\n",
    "for feature, prediction in predictions.items():\n",
    "    print(f'{feature}: {prediction}')\n"
   ]
  },
  {
   "cell_type": "code",
   "execution_count": null,
   "id": "03ce6236-2d44-4931-a66b-abbbdfecb694",
   "metadata": {},
   "outputs": [],
   "source": []
  }
 ],
 "metadata": {
  "kernelspec": {
   "display_name": "Python 3 (ipykernel)",
   "language": "python",
   "name": "python3"
  },
  "language_info": {
   "codemirror_mode": {
    "name": "ipython",
    "version": 3
   },
   "file_extension": ".py",
   "mimetype": "text/x-python",
   "name": "python",
   "nbconvert_exporter": "python",
   "pygments_lexer": "ipython3",
   "version": "3.12.3"
  }
 },
 "nbformat": 4,
 "nbformat_minor": 5
}
